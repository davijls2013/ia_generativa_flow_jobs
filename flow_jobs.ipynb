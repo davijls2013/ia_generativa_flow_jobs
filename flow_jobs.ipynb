{
 "cells": [
  {
   "cell_type": "code",
   "execution_count": 106,
   "id": "1b2cea99-5ac9-43f6-9ec2-b8a0a986575a",
   "metadata": {
    "tags": []
   },
   "outputs": [],
   "source": [
    "import numpy as np\n",
    "import random\n",
    "import pandas as pd"
   ]
  },
  {
   "cell_type": "code",
   "execution_count": 107,
   "id": "27dbe33e-74df-4fc5-a74d-7e8ae05fcef7",
   "metadata": {
    "tags": []
   },
   "outputs": [],
   "source": [
    "# Dados simulados dos pacotes\n",
    "package_info = [\n",
    "    {\"Package\": \"Package_1\", \"Dependencies\": 3, \"Package_Size\": 42, \"Installation_Time\": 59},\n",
    "    {\"Package\": \"Package_2\", \"Dependencies\": 2, \"Package_Size\": 37, \"Installation_Time\": 37},\n",
    "    {\"Package\": \"Package_3\", \"Dependencies\": 4, \"Package_Size\": 65, \"Installation_Time\": 42},\n",
    "    {\"Package\": \"Package_4\", \"Dependencies\": 1, \"Package_Size\": 30, \"Installation_Time\": 30},\n",
    "    {\"Package\": \"Package_5\", \"Dependencies\": 5, \"Package_Size\": 88, \"Installation_Time\": 88}\n",
    "]\n",
    "\n",
    "# Criando o DataFrame com os dados dos pacotes\n",
    "df = pd.DataFrame(package_info)"
   ]
  },
  {
   "cell_type": "code",
   "execution_count": 108,
   "id": "92c8b453-cdd3-46a2-a6ef-e9c416edd3a0",
   "metadata": {
    "tags": []
   },
   "outputs": [
    {
     "name": "stdout",
     "output_type": "stream",
     "text": [
      "DataFrame inicial:\n",
      "     Package  Dependencies  Package_Size  Installation_Time\n",
      "0  Package_1             3            42                 59\n",
      "1  Package_2             2            37                 37\n",
      "2  Package_3             4            65                 42\n",
      "3  Package_4             1            30                 30\n",
      "4  Package_5             5            88                 88\n",
      "\n"
     ]
    }
   ],
   "source": [
    "# Mostrando o DataFrame inicial\n",
    "print(\"DataFrame inicial:\")\n",
    "print(df)\n",
    "print()"
   ]
  },
  {
   "cell_type": "code",
   "execution_count": 109,
   "id": "65cebcc6-1f85-4ee4-9ef3-055d3a80ecd9",
   "metadata": {
    "tags": []
   },
   "outputs": [],
   "source": [
    "# Algoritmo Genético para otimizar a ordem de instalação dos pacotes\n",
    "def objective_function(order):\n",
    "    total_time = 0\n",
    "    for index in order:\n",
    "        package = df.iloc[index]\n",
    "        total_time += package[\"Installation_Time\"]\n",
    "    return total_time"
   ]
  },
  {
   "cell_type": "code",
   "execution_count": 110,
   "id": "a2dd89e2-8054-4b51-93f2-ba5d06e89fd3",
   "metadata": {
    "tags": []
   },
   "outputs": [],
   "source": [
    "def initialize_population(pop_size, num_packages):\n",
    "    population = [list(np.random.permutation(num_packages)) for _ in range(pop_size)]\n",
    "    return population"
   ]
  },
  {
   "cell_type": "code",
   "execution_count": 111,
   "id": "9db9bc0d-9980-4569-8384-a13a7341a180",
   "metadata": {
    "tags": []
   },
   "outputs": [],
   "source": [
    "def selection(population, num_parents):\n",
    "    parents = []\n",
    "    for _ in range(num_parents):\n",
    "        random.shuffle(population)\n",
    "        parents.append(population[0])\n",
    "    return parents"
   ]
  },
  {
   "cell_type": "code",
   "execution_count": 112,
   "id": "1fa60975-aa07-4c5e-897c-6a820ea94430",
   "metadata": {
    "tags": []
   },
   "outputs": [],
   "source": [
    "def crossover(parents, num_offsprings):\n",
    "    offsprings = []\n",
    "    for _ in range(num_offsprings):\n",
    "        parent1, parent2 = random.sample(parents, 2)\n",
    "        child = parent1[:]\n",
    "        for gene in parent1:\n",
    "            if gene not in child:\n",
    "                child[child.index(None)] = gene\n",
    "        offsprings.append(child)\n",
    "    return offsprings"
   ]
  },
  {
   "cell_type": "code",
   "execution_count": 113,
   "id": "f8492deb-e781-45b5-843e-078c45c655c1",
   "metadata": {
    "tags": []
   },
   "outputs": [],
   "source": [
    "def mutation(individual, mutation_rate):\n",
    "    if random.random() < mutation_rate:\n",
    "        index1, index2 = random.sample(range(len(individual)), 2)\n",
    "        individual[index1], individual[index2] = individual[index2], individual[index1]"
   ]
  },
  {
   "cell_type": "code",
   "execution_count": 114,
   "id": "555eae10-2a43-440a-be86-9929c37521e9",
   "metadata": {
    "tags": []
   },
   "outputs": [],
   "source": [
    "def genetic_algorithm(num_generations, pop_size, num_parents, num_offsprings, mutation_rate, num_packages):\n",
    "    population = initialize_population(pop_size, num_packages)\n",
    "    for generation in range(num_generations):\n",
    "        parents = selection(population, num_parents)\n",
    "        offsprings = crossover(parents, num_offsprings)\n",
    "        for offspring in offsprings:\n",
    "            mutation(offspring, mutation_rate)\n",
    "        population = offsprings\n",
    "    best_order = min(population, key=objective_function)\n",
    "    return best_order"
   ]
  },
  {
   "cell_type": "code",
   "execution_count": 115,
   "id": "6bc6d542-0c50-449c-821b-682158848db8",
   "metadata": {
    "tags": []
   },
   "outputs": [],
   "source": [
    "# Configuração do Algoritmo Genético\n",
    "num_generations = 1000\n",
    "pop_size = 100\n",
    "num_parents = 10\n",
    "num_offsprings = 50\n",
    "mutation_rate = 0.2"
   ]
  },
  {
   "cell_type": "code",
   "execution_count": 116,
   "id": "7d4b2876-e31b-48f0-98c3-be271b144b48",
   "metadata": {
    "tags": []
   },
   "outputs": [],
   "source": [
    "# Executando o Algoritmo Genético\n",
    "best_order = genetic_algorithm(num_generations, pop_size, num_parents, num_offsprings, mutation_rate, len(df))"
   ]
  },
  {
   "cell_type": "code",
   "execution_count": 117,
   "id": "1163a119-fb71-4928-b6df-2467d35e9926",
   "metadata": {
    "tags": []
   },
   "outputs": [
    {
     "name": "stdout",
     "output_type": "stream",
     "text": [
      "Ordem otimizada dos pacotes:\n",
      "     Package  Dependencies  Package_Size  Installation_Time\n",
      "0  Package_1             3            42                 59\n",
      "3  Package_4             1            30                 30\n",
      "2  Package_3             4            65                 42\n",
      "4  Package_5             5            88                 88\n",
      "1  Package_2             2            37                 37\n"
     ]
    }
   ],
   "source": [
    "# Exibindo a ordem otimizada dos pacotes\n",
    "print(\"Ordem otimizada dos pacotes:\")\n",
    "optimized_df = df.iloc[best_order]\n",
    "print(optimized_df)"
   ]
  },
  {
   "cell_type": "code",
   "execution_count": 120,
   "id": "822619ee-848f-440a-b29b-0fd789b7e651",
   "metadata": {
    "tags": []
   },
   "outputs": [],
   "source": [
    "import json"
   ]
  },
  {
   "cell_type": "code",
   "execution_count": 121,
   "id": "29c33efc-b791-4df1-87af-5f54e6cb4ba6",
   "metadata": {
    "tags": []
   },
   "outputs": [
    {
     "name": "stdout",
     "output_type": "stream",
     "text": [
      "DataFrame Original em JSON:\n",
      "[\n",
      "    {\n",
      "        \"Dependencies\": 3,\n",
      "        \"Installation_Time\": 59,\n",
      "        \"Package\": \"Package_1\",\n",
      "        \"Package_Size\": 42\n",
      "    },\n",
      "    {\n",
      "        \"Dependencies\": 2,\n",
      "        \"Installation_Time\": 37,\n",
      "        \"Package\": \"Package_2\",\n",
      "        \"Package_Size\": 37\n",
      "    },\n",
      "    {\n",
      "        \"Dependencies\": 4,\n",
      "        \"Installation_Time\": 42,\n",
      "        \"Package\": \"Package_3\",\n",
      "        \"Package_Size\": 65\n",
      "    },\n",
      "    {\n",
      "        \"Dependencies\": 1,\n",
      "        \"Installation_Time\": 30,\n",
      "        \"Package\": \"Package_4\",\n",
      "        \"Package_Size\": 30\n",
      "    },\n",
      "    {\n",
      "        \"Dependencies\": 5,\n",
      "        \"Installation_Time\": 88,\n",
      "        \"Package\": \"Package_5\",\n",
      "        \"Package_Size\": 88\n",
      "    }\n",
      "]\n",
      "\n"
     ]
    }
   ],
   "source": [
    "# Convertendo o DataFrame original para JSON e imprimindo de forma identada\n",
    "original_json = df.to_json(orient='records')\n",
    "parsed = json.loads(original_json)\n",
    "print(\"DataFrame Original em JSON:\")\n",
    "print(json.dumps(parsed, indent=4, sort_keys=True))\n",
    "print()"
   ]
  },
  {
   "cell_type": "code",
   "execution_count": 122,
   "id": "b562324a-c068-4f18-ba13-763e4e2c90a4",
   "metadata": {
    "tags": []
   },
   "outputs": [
    {
     "name": "stdout",
     "output_type": "stream",
     "text": [
      "DataFrame Otimizado em JSON:\n",
      "[\n",
      "    {\n",
      "        \"Dependencies\": 3,\n",
      "        \"Installation_Time\": 59,\n",
      "        \"Package\": \"Package_1\",\n",
      "        \"Package_Size\": 42\n",
      "    },\n",
      "    {\n",
      "        \"Dependencies\": 1,\n",
      "        \"Installation_Time\": 30,\n",
      "        \"Package\": \"Package_4\",\n",
      "        \"Package_Size\": 30\n",
      "    },\n",
      "    {\n",
      "        \"Dependencies\": 4,\n",
      "        \"Installation_Time\": 42,\n",
      "        \"Package\": \"Package_3\",\n",
      "        \"Package_Size\": 65\n",
      "    },\n",
      "    {\n",
      "        \"Dependencies\": 5,\n",
      "        \"Installation_Time\": 88,\n",
      "        \"Package\": \"Package_5\",\n",
      "        \"Package_Size\": 88\n",
      "    },\n",
      "    {\n",
      "        \"Dependencies\": 2,\n",
      "        \"Installation_Time\": 37,\n",
      "        \"Package\": \"Package_2\",\n",
      "        \"Package_Size\": 37\n",
      "    }\n",
      "]\n"
     ]
    }
   ],
   "source": [
    "# Convertendo o DataFrame otimizado para JSON e imprimindo de forma identada\n",
    "optimized_json = optimized_df.to_json(orient='records')\n",
    "parsed = json.loads(optimized_json)\n",
    "print(\"DataFrame Otimizado em JSON:\")\n",
    "print(json.dumps(parsed, indent=4, sort_keys=True))"
   ]
  },
  {
   "cell_type": "code",
   "execution_count": null,
   "id": "7a4be945-982a-402c-88ee-50304a46340b",
   "metadata": {},
   "outputs": [],
   "source": []
  }
 ],
 "metadata": {
  "kernelspec": {
   "display_name": "Python 3 (ipykernel)",
   "language": "python",
   "name": "python3"
  },
  "language_info": {
   "codemirror_mode": {
    "name": "ipython",
    "version": 3
   },
   "file_extension": ".py",
   "mimetype": "text/x-python",
   "name": "python",
   "nbconvert_exporter": "python",
   "pygments_lexer": "ipython3",
   "version": "3.11.3"
  }
 },
 "nbformat": 4,
 "nbformat_minor": 5
}
